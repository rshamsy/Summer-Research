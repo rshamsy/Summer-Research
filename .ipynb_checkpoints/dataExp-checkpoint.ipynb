{
 "cells": [
  {
   "cell_type": "markdown",
   "metadata": {},
   "source": [
    "#### Importing Libraries"
   ]
  },
  {
   "cell_type": "code",
   "execution_count": 2,
   "metadata": {
    "collapsed": true
   },
   "outputs": [],
   "source": [
    "import pandas as pd\n",
    "import numpy as np\n",
    "import plotly as py\n"
   ]
  },
  {
   "cell_type": "code",
   "execution_count": 4,
   "metadata": {
    "collapsed": false
   },
   "outputs": [],
   "source": [
    "oneDF = pd.read_csv(\"/Users/MHK/Documents/Rahim/Western/research17/DataExp/CC_CMLP_kwhtotal/m1_kwhtotal.csv\")\n",
    "twoDF = pd.read_csv(\"/Users/MHK/Documents/Rahim/Western/research17/DataExp/CC_CMLP_kwhtotal/m2MLDPtxa_kwhtotal.csv\")\n",
    "threeDF = pd.read_csv(\"/Users/MHK/Documents/Rahim/Western/research17/DataExp/CC_CMLP_kwhtotal/m3MLDPtxb_kwhtotal.csv\")\n",
    "fourDF = pd.read_csv(\"/Users/MHK/Documents/Rahim/Western/research17/DataExp/CC_CMLP_kwhtotal/m4MLDPsub_kwhtotal.csv\")\n",
    "fiveDF = pd.read_csv(\"/Users/MHK/Documents/Rahim/Western/research17/DataExp/CC_CMLP_kwhtotal/m5MHDP_kwhtotal.csv\")\n",
    "sixDF = pd.read_csv(\"/Users/MHK/Documents/Rahim/Western/research17/DataExp/CC_CMLP_kwhtotal/m6emergency_kwhtotal.csv\")"
   ]
  },
  {
   "cell_type": "code",
   "execution_count": null,
   "metadata": {
    "collapsed": true
   },
   "outputs": [],
   "source": []
  }
 ],
 "metadata": {
  "kernelspec": {
   "display_name": "Python 3",
   "language": "python",
   "name": "python3"
  },
  "language_info": {
   "codemirror_mode": {
    "name": "ipython",
    "version": 3
   },
   "file_extension": ".py",
   "mimetype": "text/x-python",
   "name": "python",
   "nbconvert_exporter": "python",
   "pygments_lexer": "ipython3",
   "version": "3.6.0"
  }
 },
 "nbformat": 4,
 "nbformat_minor": 2
}
