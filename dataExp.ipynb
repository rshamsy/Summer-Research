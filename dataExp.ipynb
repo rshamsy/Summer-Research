{
 "cells": [
  {
   "cell_type": "markdown",
   "metadata": {},
   "source": [
    "#### Importing Libraries"
   ]
  },
  {
   "cell_type": "code",
   "execution_count": 1,
   "metadata": {
    "collapsed": false
   },
   "outputs": [],
   "source": [
    "import pandas as pd\n",
    "import numpy as np\n",
    "import plotly\n",
    "import plotly.plotly as py\n",
    "import plotly.graph_objs as go\n",
    "from plotly.graph_objs import *\n",
    "import matplotlib.pyplot as plt\n",
    "\n"
   ]
  },
  {
   "cell_type": "code",
   "execution_count": 2,
   "metadata": {
    "collapsed": false
   },
   "outputs": [],
   "source": [
    "oneDF = pd.read_csv(\"/Users/MHK/Documents/Rahim/Western/research17/DataExp/CC_CMLP_kwhtotal/m1_kwhtotal.csv\")\n",
    "twoDF = pd.read_csv(\"/Users/MHK/Documents/Rahim/Western/research17/DataExp/CC_CMLP_kwhtotal/m2MLDPtxa_kwhtotal.csv\")\n",
    "threeDF = pd.read_csv(\"/Users/MHK/Documents/Rahim/Western/research17/DataExp/CC_CMLP_kwhtotal/m3MLDPtxb_kwhtotal.csv\")\n",
    "fourDF = pd.read_csv(\"/Users/MHK/Documents/Rahim/Western/research17/DataExp/CC_CMLP_kwhtotal/m4MLDPsub_kwhtotal.csv\")\n",
    "fiveDF = pd.read_csv(\"/Users/MHK/Documents/Rahim/Western/research17/DataExp/CC_CMLP_kwhtotal/m5MHDP_kwhtotal.csv\")\n",
    "sixDF = pd.read_csv(\"/Users/MHK/Documents/Rahim/Western/research17/DataExp/CC_CMLP_kwhtotal/m6emergency_kwhtotal.csv\")"
   ]
  },
  {
   "cell_type": "code",
   "execution_count": 4,
   "metadata": {
    "collapsed": false
   },
   "outputs": [],
   "source": [
    "plotly.tools.set_credentials_file(username='rshamsy',api_key='Nvu0NCY5RibxBlK6pRXo')"
   ]
  },
  {
   "cell_type": "code",
   "execution_count": 9,
   "metadata": {
    "collapsed": false
   },
   "outputs": [
    {
     "name": "stderr",
     "output_type": "stream",
     "text": [
      "/Users/MHK/anaconda/lib/python3.6/site-packages/plotly/plotly/plotly.py:236: UserWarning:\n",
      "\n",
      "Woah there! Look at all those points! Due to browser limitations, the Plotly SVG drawing functions have a hard time graphing more than 500k data points for line charts, or 40k points for other types of charts. Here are some suggestions:\n",
      "(1) Use the `plotly.graph_objs.Scattergl` trace object to generate a WebGl graph.\n",
      "(2) Trying using the image API to return an image instead of a graph URL\n",
      "(3) Use matplotlib\n",
      "(4) See if you can create your visualization with fewer data points\n",
      "\n",
      "If the visualization you're using aggregates points (e.g., box plot, histogram, etc.) you can disregard this warning.\n",
      "\n"
     ]
    },
    {
     "name": "stdout",
     "output_type": "stream",
     "text": [
      "The draw time for this plot will be slow for all clients.\n"
     ]
    },
    {
     "name": "stderr",
     "output_type": "stream",
     "text": [
      "/Users/MHK/anaconda/lib/python3.6/site-packages/plotly/plotly/plotly.py:1443: UserWarning:\n",
      "\n",
      "Estimated Draw Time Too Long\n",
      "\n"
     ]
    }
   ],
   "source": [
    "\n",
    "from plotly.graph_objs import *\n",
    "\n",
    "trace0 = Scatter(\n",
    "    x=oneDF['seq'],\n",
    "    y=oneDF['v']\n",
    ")\n",
    "\n",
    "data = Data([trace0])\n",
    "\n",
    "py.iplot(data);\n"
   ]
  },
  {
   "cell_type": "code",
   "execution_count": 10,
   "metadata": {
    "collapsed": false
   },
   "outputs": [
    {
     "name": "stderr",
     "output_type": "stream",
     "text": [
      "/Users/MHK/anaconda/lib/python3.6/site-packages/plotly/plotly/plotly.py:236: UserWarning:\n",
      "\n",
      "Woah there! Look at all those points! Due to browser limitations, the Plotly SVG drawing functions have a hard time graphing more than 500k data points for line charts, or 40k points for other types of charts. Here are some suggestions:\n",
      "(1) Use the `plotly.graph_objs.Scattergl` trace object to generate a WebGl graph.\n",
      "(2) Trying using the image API to return an image instead of a graph URL\n",
      "(3) Use matplotlib\n",
      "(4) See if you can create your visualization with fewer data points\n",
      "\n",
      "If the visualization you're using aggregates points (e.g., box plot, histogram, etc.) you can disregard this warning.\n",
      "\n"
     ]
    }
   ],
   "source": [
    "boxValues = go.Box(\n",
    "    y = oneDF[\"v\"]\n",
    ")\n",
    "\n",
    "\n",
    "boxData = [boxValues]\n",
    "py.iplot(boxData);"
   ]
  },
  {
   "cell_type": "markdown",
   "metadata": {},
   "source": [
    "#####  The data set for the first meter must be reduced to exclude large outliers (>50K) and NaN values, which is done in the following:"
   ]
  },
  {
   "cell_type": "code",
   "execution_count": 33,
   "metadata": {
    "collapsed": false
   },
   "outputs": [
    {
     "ename": "SyntaxError",
     "evalue": "invalid syntax (<ipython-input-33-37a74929de01>, line 6)",
     "output_type": "error",
     "traceback": [
      "\u001b[0;36m  File \u001b[0;32m\"<ipython-input-33-37a74929de01>\"\u001b[0;36m, line \u001b[0;32m6\u001b[0m\n\u001b[0;31m    y = twoDF[\"v\"]\u001b[0m\n\u001b[0m    ^\u001b[0m\n\u001b[0;31mSyntaxError\u001b[0m\u001b[0;31m:\u001b[0m invalid syntax\n"
     ]
    }
   ],
   "source": [
    "oneDFred=oneDF.loc[oneDF[\"v\"]<50000,[\"ts\",\"v\"]]\n",
    "\n",
    "traceOneDF = go.Scattergl(\n",
    "    x = oneDFred[\"ts\"],\n",
    "    y = oneDFred[\"v\"]\n",
    ")\n",
    "\n",
    "redDataOneDF = Data([traceOneDF])\n",
    "py.plot(redDataOneDF)"
   ]
  },
  {
   "cell_type": "code",
   "execution_count": null,
   "metadata": {
    "collapsed": true
   },
   "outputs": [],
   "source": [
    "traceTwoDF = go.Scattergl(\n",
    "    x = twoDF[\"ts\"], y = twoDF[\"v\"]\n",
    ")\n",
    "\n",
    "dataTwoDF = Data([traceTwoDF])\n",
    "py.plot(dataTwoDF)"
   ]
  },
  {
   "cell_type": "code",
   "execution_count": null,
   "metadata": {
    "collapsed": true
   },
   "outputs": [],
   "source": []
  }
 ],
 "metadata": {
  "kernelspec": {
   "display_name": "Python 3",
   "language": "python",
   "name": "python3"
  },
  "language_info": {
   "codemirror_mode": {
    "name": "ipython",
    "version": 3
   },
   "file_extension": ".py",
   "mimetype": "text/x-python",
   "name": "python",
   "nbconvert_exporter": "python",
   "pygments_lexer": "ipython3",
   "version": "3.6.0"
  }
 },
 "nbformat": 4,
 "nbformat_minor": 2
}
